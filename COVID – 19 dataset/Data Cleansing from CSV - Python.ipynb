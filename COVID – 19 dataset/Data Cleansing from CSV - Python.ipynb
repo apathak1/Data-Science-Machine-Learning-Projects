{
 "cells": [
  {
   "cell_type": "code",
   "execution_count": 2,
   "metadata": {},
   "outputs": [],
   "source": [
    "import string\n",
    "import csv\n",
    "import pandas as pd\n",
    "import numpy as np\n",
    "\n",
    "%matplotlib inline\n",
    "import matplotlib.pyplot as plt\n",
    "import scipy.stats\n",
    "from sklearn.preprocessing import LabelEncoder"
   ]
  },
  {
   "cell_type": "code",
   "execution_count": 3,
   "metadata": {},
   "outputs": [],
   "source": [
    "#Loading the dataset CSV file\n",
    "covid = pd.read_csv(\"C:/Users/VP/Desktop/Public_COVID-19_Canada1.csv\")"
   ]
  },
  {
   "cell_type": "code",
   "execution_count": 4,
   "metadata": {},
   "outputs": [
    {
     "data": {
      "text/html": [
       "<div>\n",
       "<style scoped>\n",
       "    .dataframe tbody tr th:only-of-type {\n",
       "        vertical-align: middle;\n",
       "    }\n",
       "\n",
       "    .dataframe tbody tr th {\n",
       "        vertical-align: top;\n",
       "    }\n",
       "\n",
       "    .dataframe thead th {\n",
       "        text-align: right;\n",
       "    }\n",
       "</style>\n",
       "<table border=\"1\" class=\"dataframe\">\n",
       "  <thead>\n",
       "    <tr style=\"text-align: right;\">\n",
       "      <th></th>\n",
       "      <th>case_id</th>\n",
       "      <th>provincial_case_id</th>\n",
       "      <th>age</th>\n",
       "      <th>sex</th>\n",
       "      <th>health_region</th>\n",
       "      <th>province</th>\n",
       "      <th>country</th>\n",
       "      <th>date_report</th>\n",
       "      <th>report_week</th>\n",
       "      <th>travel_yn</th>\n",
       "      <th>travel_history_country</th>\n",
       "      <th>locally_acquired</th>\n",
       "    </tr>\n",
       "  </thead>\n",
       "  <tbody>\n",
       "    <tr>\n",
       "      <th>0</th>\n",
       "      <td>1</td>\n",
       "      <td>1</td>\n",
       "      <td>50-59</td>\n",
       "      <td>Male</td>\n",
       "      <td>Toronto</td>\n",
       "      <td>Ontario</td>\n",
       "      <td>Canada</td>\n",
       "      <td>25-01-2020</td>\n",
       "      <td>19-01-2020</td>\n",
       "      <td>1</td>\n",
       "      <td>China</td>\n",
       "      <td>NaN</td>\n",
       "    </tr>\n",
       "    <tr>\n",
       "      <th>1</th>\n",
       "      <td>2</td>\n",
       "      <td>2</td>\n",
       "      <td>50-59</td>\n",
       "      <td>Female</td>\n",
       "      <td>Toronto</td>\n",
       "      <td>Ontario</td>\n",
       "      <td>Canada</td>\n",
       "      <td>27-01-2020</td>\n",
       "      <td>26-01-2020</td>\n",
       "      <td>1</td>\n",
       "      <td>China</td>\n",
       "      <td>NaN</td>\n",
       "    </tr>\n",
       "    <tr>\n",
       "      <th>2</th>\n",
       "      <td>3</td>\n",
       "      <td>1</td>\n",
       "      <td>40-49</td>\n",
       "      <td>Male</td>\n",
       "      <td>Vancouver Coastal</td>\n",
       "      <td>BC</td>\n",
       "      <td>Canada</td>\n",
       "      <td>28-01-2020</td>\n",
       "      <td>26-01-2020</td>\n",
       "      <td>1</td>\n",
       "      <td>China</td>\n",
       "      <td>NaN</td>\n",
       "    </tr>\n",
       "    <tr>\n",
       "      <th>3</th>\n",
       "      <td>4</td>\n",
       "      <td>3</td>\n",
       "      <td>20-29</td>\n",
       "      <td>Female</td>\n",
       "      <td>Middlesex-London</td>\n",
       "      <td>Ontario</td>\n",
       "      <td>Canada</td>\n",
       "      <td>31-01-2020</td>\n",
       "      <td>26-01-2020</td>\n",
       "      <td>1</td>\n",
       "      <td>China</td>\n",
       "      <td>NaN</td>\n",
       "    </tr>\n",
       "    <tr>\n",
       "      <th>4</th>\n",
       "      <td>5</td>\n",
       "      <td>2</td>\n",
       "      <td>50-59</td>\n",
       "      <td>Female</td>\n",
       "      <td>Vancouver Coastal</td>\n",
       "      <td>BC</td>\n",
       "      <td>Canada</td>\n",
       "      <td>04-02-2020</td>\n",
       "      <td>02-02-2020</td>\n",
       "      <td>0</td>\n",
       "      <td>NaN</td>\n",
       "      <td>Close Contact</td>\n",
       "    </tr>\n",
       "    <tr>\n",
       "      <th>...</th>\n",
       "      <td>...</td>\n",
       "      <td>...</td>\n",
       "      <td>...</td>\n",
       "      <td>...</td>\n",
       "      <td>...</td>\n",
       "      <td>...</td>\n",
       "      <td>...</td>\n",
       "      <td>...</td>\n",
       "      <td>...</td>\n",
       "      <td>...</td>\n",
       "      <td>...</td>\n",
       "      <td>...</td>\n",
       "    </tr>\n",
       "    <tr>\n",
       "      <th>3404</th>\n",
       "      <td>3405</td>\n",
       "      <td>655</td>\n",
       "      <td>Not Reported</td>\n",
       "      <td>Not Reported</td>\n",
       "      <td>Interior</td>\n",
       "      <td>BC</td>\n",
       "      <td>Canada</td>\n",
       "      <td>25-03-2020</td>\n",
       "      <td>22-03-2020</td>\n",
       "      <td>Not Reported</td>\n",
       "      <td>NaN</td>\n",
       "      <td>NaN</td>\n",
       "    </tr>\n",
       "    <tr>\n",
       "      <th>3405</th>\n",
       "      <td>3406</td>\n",
       "      <td>656</td>\n",
       "      <td>Not Reported</td>\n",
       "      <td>Not Reported</td>\n",
       "      <td>Interior</td>\n",
       "      <td>BC</td>\n",
       "      <td>Canada</td>\n",
       "      <td>25-03-2020</td>\n",
       "      <td>22-03-2020</td>\n",
       "      <td>Not Reported</td>\n",
       "      <td>NaN</td>\n",
       "      <td>NaN</td>\n",
       "    </tr>\n",
       "    <tr>\n",
       "      <th>3406</th>\n",
       "      <td>3407</td>\n",
       "      <td>657</td>\n",
       "      <td>Not Reported</td>\n",
       "      <td>Not Reported</td>\n",
       "      <td>Interior</td>\n",
       "      <td>BC</td>\n",
       "      <td>Canada</td>\n",
       "      <td>25-03-2020</td>\n",
       "      <td>22-03-2020</td>\n",
       "      <td>Not Reported</td>\n",
       "      <td>NaN</td>\n",
       "      <td>NaN</td>\n",
       "    </tr>\n",
       "    <tr>\n",
       "      <th>3407</th>\n",
       "      <td>3408</td>\n",
       "      <td>658</td>\n",
       "      <td>Not Reported</td>\n",
       "      <td>Not Reported</td>\n",
       "      <td>Interior</td>\n",
       "      <td>BC</td>\n",
       "      <td>Canada</td>\n",
       "      <td>25-03-2020</td>\n",
       "      <td>22-03-2020</td>\n",
       "      <td>Not Reported</td>\n",
       "      <td>NaN</td>\n",
       "      <td>NaN</td>\n",
       "    </tr>\n",
       "    <tr>\n",
       "      <th>3408</th>\n",
       "      <td>3409</td>\n",
       "      <td>659</td>\n",
       "      <td>Not Reported</td>\n",
       "      <td>Not Reported</td>\n",
       "      <td>Northern</td>\n",
       "      <td>BC</td>\n",
       "      <td>Canada</td>\n",
       "      <td>25-03-2020</td>\n",
       "      <td>22-03-2020</td>\n",
       "      <td>Not Reported</td>\n",
       "      <td>NaN</td>\n",
       "      <td>NaN</td>\n",
       "    </tr>\n",
       "  </tbody>\n",
       "</table>\n",
       "<p>3409 rows × 12 columns</p>\n",
       "</div>"
      ],
      "text/plain": [
       "      case_id  provincial_case_id           age           sex  \\\n",
       "0           1                   1         50-59          Male   \n",
       "1           2                   2         50-59        Female   \n",
       "2           3                   1         40-49          Male   \n",
       "3           4                   3         20-29        Female   \n",
       "4           5                   2         50-59        Female   \n",
       "...       ...                 ...           ...           ...   \n",
       "3404     3405                 655  Not Reported  Not Reported   \n",
       "3405     3406                 656  Not Reported  Not Reported   \n",
       "3406     3407                 657  Not Reported  Not Reported   \n",
       "3407     3408                 658  Not Reported  Not Reported   \n",
       "3408     3409                 659  Not Reported  Not Reported   \n",
       "\n",
       "          health_region province country date_report report_week  \\\n",
       "0               Toronto  Ontario  Canada  25-01-2020  19-01-2020   \n",
       "1               Toronto  Ontario  Canada  27-01-2020  26-01-2020   \n",
       "2     Vancouver Coastal       BC  Canada  28-01-2020  26-01-2020   \n",
       "3      Middlesex-London  Ontario  Canada  31-01-2020  26-01-2020   \n",
       "4     Vancouver Coastal       BC  Canada  04-02-2020  02-02-2020   \n",
       "...                 ...      ...     ...         ...         ...   \n",
       "3404           Interior       BC  Canada  25-03-2020  22-03-2020   \n",
       "3405           Interior       BC  Canada  25-03-2020  22-03-2020   \n",
       "3406           Interior       BC  Canada  25-03-2020  22-03-2020   \n",
       "3407           Interior       BC  Canada  25-03-2020  22-03-2020   \n",
       "3408           Northern       BC  Canada  25-03-2020  22-03-2020   \n",
       "\n",
       "         travel_yn travel_history_country locally_acquired  \n",
       "0                1                  China              NaN  \n",
       "1                1                  China              NaN  \n",
       "2                1                  China              NaN  \n",
       "3                1                  China              NaN  \n",
       "4                0                    NaN    Close Contact  \n",
       "...            ...                    ...              ...  \n",
       "3404  Not Reported                    NaN              NaN  \n",
       "3405  Not Reported                    NaN              NaN  \n",
       "3406  Not Reported                    NaN              NaN  \n",
       "3407  Not Reported                    NaN              NaN  \n",
       "3408  Not Reported                    NaN              NaN  \n",
       "\n",
       "[3409 rows x 12 columns]"
      ]
     },
     "execution_count": 4,
     "metadata": {},
     "output_type": "execute_result"
    }
   ],
   "source": [
    "covid"
   ]
  },
  {
   "cell_type": "code",
   "execution_count": 5,
   "metadata": {},
   "outputs": [
    {
     "data": {
      "text/plain": [
       "['case_id',\n",
       " 'provincial_case_id',\n",
       " 'age',\n",
       " 'sex',\n",
       " 'health_region',\n",
       " 'province',\n",
       " 'country',\n",
       " 'date_report',\n",
       " 'report_week',\n",
       " 'travel_yn',\n",
       " 'travel_history_country',\n",
       " 'locally_acquired']"
      ]
     },
     "execution_count": 5,
     "metadata": {},
     "output_type": "execute_result"
    }
   ],
   "source": [
    "#column names\n",
    "list(covid.columns)"
   ]
  },
  {
   "cell_type": "code",
   "execution_count": 6,
   "metadata": {},
   "outputs": [
    {
     "name": "stdout",
     "output_type": "stream",
     "text": [
      "Index(['Case ID', 'Provincial Case ID', 'Age Range', 'Gender', 'City',\n",
      "       'Province', 'Country', 'Date Reported', 'report_week',\n",
      "       'Travelled (Y/N)', 'Country Travelled', 'locally_acquired'],\n",
      "      dtype='object')\n"
     ]
    }
   ],
   "source": [
    "#Renmaing the columns\n",
    "covid.rename(columns={\"case_id\":\"Case ID\", \"provincial_case_id\":\"Provincial Case ID\", \"age\":\"Age Range\", \"sex\":\"Gender\", \"health_region\":\"City\", \"province\":\"Province\", \"country\":\"Country\", \"date_report\":\"Date Reported\", \"travel_yn\":\"Travelled (Y/N)\", \"travel_history_country\":\"Country Travelled\"}, inplace=True)\n",
    "print(covid.columns)"
   ]
  },
  {
   "cell_type": "code",
   "execution_count": 7,
   "metadata": {},
   "outputs": [
    {
     "name": "stdout",
     "output_type": "stream",
     "text": [
      "Case ID                int64\n",
      "Provincial Case ID     int64\n",
      "Age Range             object\n",
      "Gender                object\n",
      "City                  object\n",
      "Province              object\n",
      "Country               object\n",
      "Date Reported         object\n",
      "report_week           object\n",
      "Travelled (Y/N)       object\n",
      "Country Travelled     object\n",
      "locally_acquired      object\n",
      "dtype: object\n"
     ]
    }
   ],
   "source": [
    "# column data types\n",
    "print(covid.dtypes)"
   ]
  },
  {
   "cell_type": "code",
   "execution_count": 8,
   "metadata": {},
   "outputs": [
    {
     "data": {
      "text/plain": [
       "True"
      ]
     },
     "execution_count": 8,
     "metadata": {},
     "output_type": "execute_result"
    }
   ],
   "source": [
    "#checking if the data has N/A's, null values etc\n",
    "covid.isnull().values.any()"
   ]
  },
  {
   "cell_type": "code",
   "execution_count": 9,
   "metadata": {},
   "outputs": [
    {
     "data": {
      "text/plain": [
       "Case ID                  0\n",
       "Provincial Case ID       0\n",
       "Age Range                0\n",
       "Gender                   0\n",
       "City                     0\n",
       "Province                 0\n",
       "Country                  0\n",
       "Date Reported            0\n",
       "report_week              0\n",
       "Travelled (Y/N)          0\n",
       "Country Travelled     3047\n",
       "locally_acquired      3262\n",
       "dtype: int64"
      ]
     },
     "execution_count": 9,
     "metadata": {},
     "output_type": "execute_result"
    }
   ],
   "source": [
    "#Checking to see how many null values, NA's, blank cells are there there in the data\n",
    "covid.isnull().sum()"
   ]
  },
  {
   "cell_type": "code",
   "execution_count": 10,
   "metadata": {},
   "outputs": [],
   "source": [
    "# Dropped these two columns due too many N/A values\n",
    "covid_1 = covid.drop(columns=['Country Travelled', 'locally_acquired'])"
   ]
  },
  {
   "cell_type": "code",
   "execution_count": 11,
   "metadata": {},
   "outputs": [
    {
     "name": "stdout",
     "output_type": "stream",
     "text": [
      "      Case ID  Provincial Case ID     Age Range        Gender  \\\n",
      "0           1                   1         50-59          Male   \n",
      "1           2                   2         50-59        Female   \n",
      "2           3                   1         40-49          Male   \n",
      "3           4                   3         20-29        Female   \n",
      "4           5                   2         50-59        Female   \n",
      "...       ...                 ...           ...           ...   \n",
      "3404     3405                 655  Not Reported  Not Reported   \n",
      "3405     3406                 656  Not Reported  Not Reported   \n",
      "3406     3407                 657  Not Reported  Not Reported   \n",
      "3407     3408                 658  Not Reported  Not Reported   \n",
      "3408     3409                 659  Not Reported  Not Reported   \n",
      "\n",
      "                   City Province Country Date Reported report_week  \\\n",
      "0               Toronto  Ontario  Canada    25-01-2020  19-01-2020   \n",
      "1               Toronto  Ontario  Canada    27-01-2020  26-01-2020   \n",
      "2     Vancouver Coastal       BC  Canada    28-01-2020  26-01-2020   \n",
      "3      Middlesex-London  Ontario  Canada    31-01-2020  26-01-2020   \n",
      "4     Vancouver Coastal       BC  Canada    04-02-2020  02-02-2020   \n",
      "...                 ...      ...     ...           ...         ...   \n",
      "3404           Interior       BC  Canada    25-03-2020  22-03-2020   \n",
      "3405           Interior       BC  Canada    25-03-2020  22-03-2020   \n",
      "3406           Interior       BC  Canada    25-03-2020  22-03-2020   \n",
      "3407           Interior       BC  Canada    25-03-2020  22-03-2020   \n",
      "3408           Northern       BC  Canada    25-03-2020  22-03-2020   \n",
      "\n",
      "     Travelled (Y/N)  \n",
      "0                  1  \n",
      "1                  1  \n",
      "2                  1  \n",
      "3                  1  \n",
      "4                  0  \n",
      "...              ...  \n",
      "3404    Not Reported  \n",
      "3405    Not Reported  \n",
      "3406    Not Reported  \n",
      "3407    Not Reported  \n",
      "3408    Not Reported  \n",
      "\n",
      "[3409 rows x 10 columns]\n"
     ]
    }
   ],
   "source": [
    "print(covid_1)"
   ]
  },
  {
   "cell_type": "code",
   "execution_count": 12,
   "metadata": {},
   "outputs": [
    {
     "data": {
      "text/plain": [
       "['Case ID',\n",
       " 'Provincial Case ID',\n",
       " 'Age Range',\n",
       " 'Gender',\n",
       " 'City',\n",
       " 'Province',\n",
       " 'Country',\n",
       " 'Date Reported',\n",
       " 'report_week',\n",
       " 'Travelled (Y/N)']"
      ]
     },
     "execution_count": 12,
     "metadata": {},
     "output_type": "execute_result"
    }
   ],
   "source": [
    "list(covid_1.columns)"
   ]
  },
  {
   "cell_type": "code",
   "execution_count": 13,
   "metadata": {},
   "outputs": [
    {
     "data": {
      "text/plain": [
       "False"
      ]
     },
     "execution_count": 13,
     "metadata": {},
     "output_type": "execute_result"
    }
   ],
   "source": [
    "#Rechecking if the data has N/A's, null values etc\n",
    "covid_1.isnull().values.any()"
   ]
  },
  {
   "cell_type": "code",
   "execution_count": 14,
   "metadata": {},
   "outputs": [
    {
     "data": {
      "text/plain": [
       "Case ID               0\n",
       "Provincial Case ID    0\n",
       "Age Range             0\n",
       "Gender                0\n",
       "City                  0\n",
       "Province              0\n",
       "Country               0\n",
       "Date Reported         0\n",
       "report_week           0\n",
       "Travelled (Y/N)       0\n",
       "dtype: int64"
      ]
     },
     "execution_count": 14,
     "metadata": {},
     "output_type": "execute_result"
    }
   ],
   "source": [
    "#Rechecking to see how many null values, NA's, blank cells are there there in the data\n",
    "covid_1.isnull().sum()"
   ]
  },
  {
   "cell_type": "code",
   "execution_count": 15,
   "metadata": {},
   "outputs": [],
   "source": [
    "#changed the column data types \n",
    "le = LabelEncoder() \n",
    "  \n",
    "covid_1['Gender']= le.fit_transform(covid_1['Gender']) \n",
    "covid_1['Travelled (Y/N)']= le.fit_transform(covid_1['Travelled (Y/N)']) "
   ]
  },
  {
   "cell_type": "code",
   "execution_count": 16,
   "metadata": {},
   "outputs": [],
   "source": [
    "#changed column data types\n",
    "covid_1['Age Range'] = covid_1['Age Range'].astype('category')"
   ]
  },
  {
   "cell_type": "code",
   "execution_count": 17,
   "metadata": {},
   "outputs": [
    {
     "name": "stdout",
     "output_type": "stream",
     "text": [
      "Case ID                  int64\n",
      "Provincial Case ID       int64\n",
      "Age Range             category\n",
      "Gender                   int32\n",
      "City                    object\n",
      "Province                object\n",
      "Country                 object\n",
      "Date Reported           object\n",
      "report_week             object\n",
      "Travelled (Y/N)          int32\n",
      "dtype: object\n"
     ]
    }
   ],
   "source": [
    "print(covid_1.dtypes)"
   ]
  },
  {
   "cell_type": "code",
   "execution_count": 18,
   "metadata": {},
   "outputs": [
    {
     "data": {
      "text/html": [
       "<div>\n",
       "<style scoped>\n",
       "    .dataframe tbody tr th:only-of-type {\n",
       "        vertical-align: middle;\n",
       "    }\n",
       "\n",
       "    .dataframe tbody tr th {\n",
       "        vertical-align: top;\n",
       "    }\n",
       "\n",
       "    .dataframe thead th {\n",
       "        text-align: right;\n",
       "    }\n",
       "</style>\n",
       "<table border=\"1\" class=\"dataframe\">\n",
       "  <thead>\n",
       "    <tr style=\"text-align: right;\">\n",
       "      <th></th>\n",
       "      <th>Case ID</th>\n",
       "      <th>Provincial Case ID</th>\n",
       "      <th>Age Range</th>\n",
       "      <th>Gender</th>\n",
       "      <th>City</th>\n",
       "      <th>Province</th>\n",
       "      <th>Country</th>\n",
       "      <th>Date Reported</th>\n",
       "      <th>report_week</th>\n",
       "      <th>Travelled (Y/N)</th>\n",
       "    </tr>\n",
       "  </thead>\n",
       "  <tbody>\n",
       "    <tr>\n",
       "      <th>0</th>\n",
       "      <td>1</td>\n",
       "      <td>1</td>\n",
       "      <td>50-59</td>\n",
       "      <td>1</td>\n",
       "      <td>Toronto</td>\n",
       "      <td>Ontario</td>\n",
       "      <td>Canada</td>\n",
       "      <td>25-01-2020</td>\n",
       "      <td>19-01-2020</td>\n",
       "      <td>1</td>\n",
       "    </tr>\n",
       "    <tr>\n",
       "      <th>1</th>\n",
       "      <td>2</td>\n",
       "      <td>2</td>\n",
       "      <td>50-59</td>\n",
       "      <td>0</td>\n",
       "      <td>Toronto</td>\n",
       "      <td>Ontario</td>\n",
       "      <td>Canada</td>\n",
       "      <td>27-01-2020</td>\n",
       "      <td>26-01-2020</td>\n",
       "      <td>1</td>\n",
       "    </tr>\n",
       "    <tr>\n",
       "      <th>2</th>\n",
       "      <td>3</td>\n",
       "      <td>1</td>\n",
       "      <td>40-49</td>\n",
       "      <td>1</td>\n",
       "      <td>Vancouver Coastal</td>\n",
       "      <td>BC</td>\n",
       "      <td>Canada</td>\n",
       "      <td>28-01-2020</td>\n",
       "      <td>26-01-2020</td>\n",
       "      <td>1</td>\n",
       "    </tr>\n",
       "    <tr>\n",
       "      <th>3</th>\n",
       "      <td>4</td>\n",
       "      <td>3</td>\n",
       "      <td>20-29</td>\n",
       "      <td>0</td>\n",
       "      <td>Middlesex-London</td>\n",
       "      <td>Ontario</td>\n",
       "      <td>Canada</td>\n",
       "      <td>31-01-2020</td>\n",
       "      <td>26-01-2020</td>\n",
       "      <td>1</td>\n",
       "    </tr>\n",
       "    <tr>\n",
       "      <th>4</th>\n",
       "      <td>5</td>\n",
       "      <td>2</td>\n",
       "      <td>50-59</td>\n",
       "      <td>0</td>\n",
       "      <td>Vancouver Coastal</td>\n",
       "      <td>BC</td>\n",
       "      <td>Canada</td>\n",
       "      <td>04-02-2020</td>\n",
       "      <td>02-02-2020</td>\n",
       "      <td>0</td>\n",
       "    </tr>\n",
       "    <tr>\n",
       "      <th>...</th>\n",
       "      <td>...</td>\n",
       "      <td>...</td>\n",
       "      <td>...</td>\n",
       "      <td>...</td>\n",
       "      <td>...</td>\n",
       "      <td>...</td>\n",
       "      <td>...</td>\n",
       "      <td>...</td>\n",
       "      <td>...</td>\n",
       "      <td>...</td>\n",
       "    </tr>\n",
       "    <tr>\n",
       "      <th>3404</th>\n",
       "      <td>3405</td>\n",
       "      <td>655</td>\n",
       "      <td>Not Reported</td>\n",
       "      <td>2</td>\n",
       "      <td>Interior</td>\n",
       "      <td>BC</td>\n",
       "      <td>Canada</td>\n",
       "      <td>25-03-2020</td>\n",
       "      <td>22-03-2020</td>\n",
       "      <td>2</td>\n",
       "    </tr>\n",
       "    <tr>\n",
       "      <th>3405</th>\n",
       "      <td>3406</td>\n",
       "      <td>656</td>\n",
       "      <td>Not Reported</td>\n",
       "      <td>2</td>\n",
       "      <td>Interior</td>\n",
       "      <td>BC</td>\n",
       "      <td>Canada</td>\n",
       "      <td>25-03-2020</td>\n",
       "      <td>22-03-2020</td>\n",
       "      <td>2</td>\n",
       "    </tr>\n",
       "    <tr>\n",
       "      <th>3406</th>\n",
       "      <td>3407</td>\n",
       "      <td>657</td>\n",
       "      <td>Not Reported</td>\n",
       "      <td>2</td>\n",
       "      <td>Interior</td>\n",
       "      <td>BC</td>\n",
       "      <td>Canada</td>\n",
       "      <td>25-03-2020</td>\n",
       "      <td>22-03-2020</td>\n",
       "      <td>2</td>\n",
       "    </tr>\n",
       "    <tr>\n",
       "      <th>3407</th>\n",
       "      <td>3408</td>\n",
       "      <td>658</td>\n",
       "      <td>Not Reported</td>\n",
       "      <td>2</td>\n",
       "      <td>Interior</td>\n",
       "      <td>BC</td>\n",
       "      <td>Canada</td>\n",
       "      <td>25-03-2020</td>\n",
       "      <td>22-03-2020</td>\n",
       "      <td>2</td>\n",
       "    </tr>\n",
       "    <tr>\n",
       "      <th>3408</th>\n",
       "      <td>3409</td>\n",
       "      <td>659</td>\n",
       "      <td>Not Reported</td>\n",
       "      <td>2</td>\n",
       "      <td>Northern</td>\n",
       "      <td>BC</td>\n",
       "      <td>Canada</td>\n",
       "      <td>25-03-2020</td>\n",
       "      <td>22-03-2020</td>\n",
       "      <td>2</td>\n",
       "    </tr>\n",
       "  </tbody>\n",
       "</table>\n",
       "<p>3409 rows × 10 columns</p>\n",
       "</div>"
      ],
      "text/plain": [
       "      Case ID  Provincial Case ID     Age Range  Gender               City  \\\n",
       "0           1                   1         50-59       1            Toronto   \n",
       "1           2                   2         50-59       0            Toronto   \n",
       "2           3                   1         40-49       1  Vancouver Coastal   \n",
       "3           4                   3         20-29       0   Middlesex-London   \n",
       "4           5                   2         50-59       0  Vancouver Coastal   \n",
       "...       ...                 ...           ...     ...                ...   \n",
       "3404     3405                 655  Not Reported       2           Interior   \n",
       "3405     3406                 656  Not Reported       2           Interior   \n",
       "3406     3407                 657  Not Reported       2           Interior   \n",
       "3407     3408                 658  Not Reported       2           Interior   \n",
       "3408     3409                 659  Not Reported       2           Northern   \n",
       "\n",
       "     Province Country Date Reported report_week  Travelled (Y/N)  \n",
       "0     Ontario  Canada    25-01-2020  19-01-2020                1  \n",
       "1     Ontario  Canada    27-01-2020  26-01-2020                1  \n",
       "2          BC  Canada    28-01-2020  26-01-2020                1  \n",
       "3     Ontario  Canada    31-01-2020  26-01-2020                1  \n",
       "4          BC  Canada    04-02-2020  02-02-2020                0  \n",
       "...       ...     ...           ...         ...              ...  \n",
       "3404       BC  Canada    25-03-2020  22-03-2020                2  \n",
       "3405       BC  Canada    25-03-2020  22-03-2020                2  \n",
       "3406       BC  Canada    25-03-2020  22-03-2020                2  \n",
       "3407       BC  Canada    25-03-2020  22-03-2020                2  \n",
       "3408       BC  Canada    25-03-2020  22-03-2020                2  \n",
       "\n",
       "[3409 rows x 10 columns]"
      ]
     },
     "execution_count": 18,
     "metadata": {},
     "output_type": "execute_result"
    }
   ],
   "source": [
    "covid_1"
   ]
  },
  {
   "cell_type": "code",
   "execution_count": 19,
   "metadata": {},
   "outputs": [
    {
     "data": {
      "text/plain": [
       "0       False\n",
       "1       False\n",
       "2       False\n",
       "3       False\n",
       "4       False\n",
       "        ...  \n",
       "3404    False\n",
       "3405    False\n",
       "3406    False\n",
       "3407    False\n",
       "3408    False\n",
       "Length: 3409, dtype: bool"
      ]
     },
     "execution_count": 19,
     "metadata": {},
     "output_type": "execute_result"
    }
   ],
   "source": [
    "#Checking if there are any duplicated values\n",
    "covid_1.duplicated()"
   ]
  },
  {
   "cell_type": "code",
   "execution_count": 20,
   "metadata": {},
   "outputs": [],
   "source": [
    "covid_1.to_excel(\"covid_list_1.xlsx\", index=False)"
   ]
  },
  {
   "cell_type": "code",
   "execution_count": null,
   "metadata": {},
   "outputs": [],
   "source": []
  }
 ],
 "metadata": {
  "kernelspec": {
   "display_name": "Python 3 (ipykernel)",
   "language": "python",
   "name": "python3"
  },
  "language_info": {
   "codemirror_mode": {
    "name": "ipython",
    "version": 3
   },
   "file_extension": ".py",
   "mimetype": "text/x-python",
   "name": "python",
   "nbconvert_exporter": "python",
   "pygments_lexer": "ipython3",
   "version": "3.7.11"
  }
 },
 "nbformat": 4,
 "nbformat_minor": 4
}
