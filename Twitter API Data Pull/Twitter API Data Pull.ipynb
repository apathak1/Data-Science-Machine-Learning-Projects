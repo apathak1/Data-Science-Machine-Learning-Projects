{
 "cells": [
  {
   "cell_type": "code",
   "execution_count": 1,
   "metadata": {},
   "outputs": [],
   "source": [
    "import twitter"
   ]
  },
  {
   "cell_type": "code",
   "execution_count": 2,
   "metadata": {},
   "outputs": [],
   "source": [
    "# Connected to Twitter API with credentials\n",
    "api = twitter.Api(consumer_key='Wy2Ypp3KwcetBcTUcXHTEu1pG', consumer_secret='kZiLw2dN7LXWCby6ZHhww9JJDJEGXpP9a8asoe81uipnhlomfP', access_token_key='1284959907624751116-0UoQFnkyWR5d13uzeCCemczlT9I0fP', access_token_secret='YEZozvXf5Tk9iTckbxf7OM2KyZQ0okECIVvNCF5cttvNh')"
   ]
  },
  {
   "cell_type": "code",
   "execution_count": 3,
   "metadata": {},
   "outputs": [
    {
     "name": "stdout",
     "output_type": "stream",
     "text": [
      "{\"created_at\": \"Sun Jul 19 21:15:48 +0000 2020\", \"default_profile\": true, \"default_profile_image\": true, \"id\": 1284959907624751116, \"id_str\": \"1284959907624751116\", \"name\": \"Ab Bellevue\", \"profile_background_color\": \"F5F8FA\", \"profile_image_url\": \"http://abs.twimg.com/sticky/default_profile_images/default_profile_normal.png\", \"profile_image_url_https\": \"https://abs.twimg.com/sticky/default_profile_images/default_profile_normal.png\", \"profile_link_color\": \"1DA1F2\", \"profile_sidebar_border_color\": \"C0DEED\", \"profile_sidebar_fill_color\": \"DDEEF6\", \"profile_text_color\": \"333333\", \"profile_use_background_image\": true, \"screen_name\": \"AbBellevue\"}\n"
     ]
    }
   ],
   "source": [
    "#Verified credentials\n",
    "print(api.VerifyCredentials())"
   ]
  },
  {
   "cell_type": "code",
   "execution_count": 5,
   "metadata": {},
   "outputs": [
    {
     "data": {
      "text/plain": [
       "[Status(ID=1290582088731832320, ScreenName=turinginst, Created=Tue Aug 04 09:35:22 +0000 2020, Text='OUT NOW: ‘Challenges and prospects of the intersection of #humanities &amp; #datascience: A white paper by @turinginst’… https://t.co/LPYDAvlmBl'),\n",
       " Status(ID=1290773507450667009, ScreenName=KirkDBorne, Created=Tue Aug 04 22:16:00 +0000 2020, Text='ARIMA/SARIMA vs. LSTM with Ensemble Learning Insights for #TimeSeries Data: https://t.co/H9D6RFYSNv\\n—————\\n#abdsc… https://t.co/WT7x4hbD0A'),\n",
       " Status(ID=1290823084052602880, ScreenName=KirkDBorne, Created=Wed Aug 05 01:33:00 +0000 2020, Text='#Python 3.9 — What’s new and better: performance boosts, new string functions, dictionary union operators, more sta… https://t.co/i7sevTNeJl'),\n",
       " Status(ID=1291089156769230848, ScreenName=bexxmodd, Created=Wed Aug 05 19:10:16 +0000 2020, Text='RT @gp_pulipaka: #Android #Malware Clustering. #BigData #Analytics #DataScience #AI #MachineLearning #CyberSecurity #IoT #IIoT #Python #RSt…'),\n",
       " Status(ID=1291089134342332422, ScreenName=westham999, Created=Wed Aug 05 19:10:11 +0000 2020, Text='RT @gp_pulipaka: #Android #Malware Clustering. #BigData #Analytics #DataScience #AI #MachineLearning #CyberSecurity #IoT #IIoT #Python #RSt…'),\n",
       " Status(ID=1291089132199059457, ScreenName=developersbot, Created=Wed Aug 05 19:10:11 +0000 2020, Text='RT @1AlexanderTitus: Can we tell if a #virus is engineered? Great piece on the IARPA program FELIX and finding engineering with #datascienc…'),\n",
       " Status(ID=1291089103241523206, ScreenName=1AlexanderTitus, Created=Wed Aug 05 19:10:04 +0000 2020, Text='Can we tell if a #virus is engineered? Great piece on the IARPA program FELIX and finding engineering with… https://t.co/ERCclGdZAG'),\n",
       " Status(ID=1291089088456654853, ScreenName=WebSecurityIT, Created=Wed Aug 05 19:10:00 +0000 2020, Text='RT @gp_pulipaka: How Milvus Implements Dynamic Data Update and Query. #BigData #Analytics #DataScience #AI #MachineLearning #IoT #IIoT #Pyt…'),\n",
       " Status(ID=1291089068579749888, ScreenName=westham999, Created=Wed Aug 05 19:09:55 +0000 2020, Text='RT @gp_pulipaka: Book Review: #MachineLearning with #TensorFlow 2 and Keras. #BigData #Analytics #DataScience #AI #MachineLearning #IoT #II…'),\n",
       " Status(ID=1291089048019271680, ScreenName=developersbot, Created=Wed Aug 05 19:09:50 +0000 2020, Text='RT @gp_pulipaka: How Milvus Implements Dynamic Data Update and Query. #BigData #Analytics #DataScience #AI #MachineLearning #IoT #IIoT #Pyt…')]"
      ]
     },
     "execution_count": 5,
     "metadata": {},
     "output_type": "execute_result"
    }
   ],
   "source": [
    "#conducted a data pull for data dcience from July 1st 2020 onwards, limiting to 10 results.\n",
    "api.GetSearch(term='datascience', since=2020-7-1, count=10)"
   ]
  },
  {
   "cell_type": "code",
   "execution_count": 6,
   "metadata": {},
   "outputs": [
    {
     "data": {
      "text/plain": [
       "[Status(ID=1291023886214201349, ScreenName=blogTO, Created=Wed Aug 05 14:50:55 +0000 2020, Text='Toronto is getting a drive-in venue like Jurassic Park for Raptors playoff games https://t.co/w1wAu0g1Cs #Toronto… https://t.co/Q1DrAbzYrP'),\n",
       " Status(ID=1291088416768229377, ScreenName=rayoflight1111, Created=Wed Aug 05 19:07:20 +0000 2020, Text='RT @blogTO: Toronto is getting a drive-in venue like Jurassic Park for Raptors playoff games https://t.co/w1wAu0g1Cs #Toronto #TorontoSport…'),\n",
       " Status(ID=1291085033827115012, ScreenName=_jessjane, Created=Wed Aug 05 18:53:53 +0000 2020, Text='RT @blogTO: Toronto is getting a drive-in venue like Jurassic Park for Raptors playoff games https://t.co/w1wAu0g1Cs #Toronto #TorontoSport…'),\n",
       " Status(ID=1291084239241465856, ScreenName=AlxFlmng, Created=Wed Aug 05 18:50:44 +0000 2020, Text='RT @ecwilson76: https://t.co/EKRnDhrYCo\\n\\n@ALXFLMNG &amp; I Discuss The Orlando Magic Loss To The Indiana Pacers And We Look Ahead To The Matchu…'),\n",
       " Status(ID=1291080948667351042, ScreenName=DayVee902, Created=Wed Aug 05 18:37:39 +0000 2020, Text='GAME THREE TONIGHT! #NBA 2019 2020 Season Re-open in the #Orlando Bubble! And we have the defending CHAMPS… https://t.co/8XB2HzYXb4'),\n",
       " Status(ID=1291075245361766401, ScreenName=DiamondJimLowe, Created=Wed Aug 05 18:15:00 +0000 2020, Text='RT @malonetyme: Happy #HumpDay sports fans!\\n\\nMalones has just what you need to make it through the mid-week slump. Join us on the Pint Hous…'),\n",
       " Status(ID=1291074252146446339, ScreenName=SimmiSidhu12, Created=Wed Aug 05 18:11:03 +0000 2020, Text='RT @blogTO: Toronto is getting a drive-in venue like Jurassic Park for Raptors playoff games https://t.co/w1wAu0g1Cs #Toronto #TorontoSport…'),\n",
       " Status(ID=1291073643351404544, ScreenName=malonetyme, Created=Wed Aug 05 18:08:38 +0000 2020, Text='Happy #HumpDay sports fans!\\n\\nMalones has just what you need to make it through the mid-week slump. Join us on the P… https://t.co/B2G8DArRnA'),\n",
       " Status(ID=1291073329680482304, ScreenName=ticklemeblue_xo, Created=Wed Aug 05 18:07:23 +0000 2020, Text='RT @blogTO: Toronto is getting a drive-in venue like Jurassic Park for Raptors playoff games https://t.co/w1wAu0g1Cs #Toronto #TorontoSport…'),\n",
       " Status(ID=1291073019469860867, ScreenName=SamHuangFan, Created=Wed Aug 05 18:06:09 +0000 2020, Text='RT @blogTO: Toronto is getting a drive-in venue like Jurassic Park for Raptors playoff games https://t.co/w1wAu0g1Cs #Toronto #TorontoSport…')]"
      ]
     },
     "execution_count": 6,
     "metadata": {},
     "output_type": "execute_result"
    }
   ],
   "source": [
    "#conducted a data pull for the Toronto Raptors basketball team from July 1st 2020 onwards, limiting to 10 results.\n",
    "api.GetSearch(term='torontoraptors', since=2020-7-1, count=10)"
   ]
  },
  {
   "cell_type": "code",
   "execution_count": null,
   "metadata": {},
   "outputs": [],
   "source": []
  }
 ],
 "metadata": {
  "kernelspec": {
   "display_name": "Python 3 (ipykernel)",
   "language": "python",
   "name": "python3"
  },
  "language_info": {
   "codemirror_mode": {
    "name": "ipython",
    "version": 3
   },
   "file_extension": ".py",
   "mimetype": "text/x-python",
   "name": "python",
   "nbconvert_exporter": "python",
   "pygments_lexer": "ipython3",
   "version": "3.7.11"
  }
 },
 "nbformat": 4,
 "nbformat_minor": 4
}
