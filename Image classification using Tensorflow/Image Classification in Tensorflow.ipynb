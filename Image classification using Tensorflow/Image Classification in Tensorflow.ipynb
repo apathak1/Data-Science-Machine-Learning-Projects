{
 "cells": [
  {
   "cell_type": "code",
   "execution_count": 24,
   "metadata": {},
   "outputs": [],
   "source": [
    "from tensorflow.keras.applications.resnet50 import ResNet50\n",
    "from tensorflow.keras.preprocessing import image\n",
    "from tensorflow.keras.applications.resnet50 import preprocess_input, decode_predictions\n",
    "import numpy as np\n",
    "import os"
   ]
  },
  {
   "cell_type": "code",
   "execution_count": 2,
   "metadata": {},
   "outputs": [
    {
     "name": "stdout",
     "output_type": "stream",
     "text": [
      "Downloading data from https://storage.googleapis.com/tensorflow/keras-applications/resnet/resnet50_weights_tf_dim_ordering_tf_kernels.h5\n",
      "102973440/102967424 [==============================] - 19s 0us/step\n"
     ]
    }
   ],
   "source": [
    "#Loading the ResNet50 Model\n",
    "mod = ResNet50(weights='imagenet')"
   ]
  },
  {
   "cell_type": "code",
   "execution_count": 26,
   "metadata": {},
   "outputs": [
    {
     "data": {
      "text/plain": [
       "'/home/jovyan/dsc650/dsc650/assignments/assignment06'"
      ]
     },
     "execution_count": 26,
     "metadata": {},
     "output_type": "execute_result"
    }
   ],
   "source": [
    "#Checking the working directory\n",
    "os.getcwd()"
   ]
  },
  {
   "cell_type": "code",
   "execution_count": 49,
   "metadata": {},
   "outputs": [],
   "source": [
    "# Image 1\n",
    "img_path = (\"/home/jovyan/dsc650/dsc650/assignments/assignment06/images/pink_flower.jfif\")\n",
    "img = image.load_img(img_path, target_size=(224, 224))\n",
    "x = image.img_to_array(img)\n",
    "x = np.expand_dims(x, axis=0)\n",
    "x = preprocess_input(x)"
   ]
  },
  {
   "cell_type": "code",
   "execution_count": 45,
   "metadata": {},
   "outputs": [],
   "source": [
    "#Model Prediction\n",
    "p = mod.predict(x)"
   ]
  },
  {
   "cell_type": "code",
   "execution_count": 46,
   "metadata": {},
   "outputs": [
    {
     "name": "stdout",
     "output_type": "stream",
     "text": [
      "Predicted: [('n04522168', 'vase', 0.095666185), ('n12620546', 'hip', 0.09158104), ('n02281406', 'sulphur_butterfly', 0.08048928)]\n"
     ]
    }
   ],
   "source": [
    "#Printing out the top 3 results\n",
    "print('Predicted:', decode_predictions(p, top=3)[0])"
   ]
  },
  {
   "cell_type": "code",
   "execution_count": 32,
   "metadata": {},
   "outputs": [],
   "source": [
    "#image 2\n",
    "img_path = (\"/home/jovyan/dsc650/dsc650/assignments/assignment06/images/chair.jfif\")\n",
    "img = image.load_img(img_path, target_size=(224, 224))\n",
    "x = image.img_to_array(img)\n",
    "x = np.expand_dims(x, axis=0)\n",
    "x = preprocess_input(x)"
   ]
  },
  {
   "cell_type": "code",
   "execution_count": 33,
   "metadata": {},
   "outputs": [],
   "source": [
    "#Model Prediction\n",
    "p = mod.predict(x)"
   ]
  },
  {
   "cell_type": "code",
   "execution_count": 34,
   "metadata": {},
   "outputs": [
    {
     "name": "stdout",
     "output_type": "stream",
     "text": [
      "Predicted: [('n03376595', 'folding_chair', 0.504604), ('n03201208', 'dining_table', 0.25420627), ('n04099969', 'rocking_chair', 0.14505622)]\n"
     ]
    }
   ],
   "source": [
    "#Printing out the top 3 results\n",
    "print('Predicted:', decode_predictions(p, top=3)[0])"
   ]
  },
  {
   "cell_type": "code",
   "execution_count": 35,
   "metadata": {},
   "outputs": [],
   "source": [
    "#image 3\n",
    "img_path = (\"/home/jovyan/dsc650/dsc650/assignments/assignment06/images/cat.jfif\")\n",
    "img = image.load_img(img_path, target_size=(224, 224))\n",
    "x = image.img_to_array(img)\n",
    "x = np.expand_dims(x, axis=0)\n",
    "x = preprocess_input(x)"
   ]
  },
  {
   "cell_type": "code",
   "execution_count": 36,
   "metadata": {},
   "outputs": [],
   "source": [
    "#Model Prediction\n",
    "p = mod.predict(x)"
   ]
  },
  {
   "cell_type": "code",
   "execution_count": 37,
   "metadata": {},
   "outputs": [
    {
     "name": "stdout",
     "output_type": "stream",
     "text": [
      "Predicted: [('n02123159', 'tiger_cat', 0.40932897), ('n02124075', 'Egyptian_cat', 0.32310656), ('n02123045', 'tabby', 0.24960382)]\n"
     ]
    }
   ],
   "source": [
    "#Printing out the top 3 results\n",
    "print('Predicted:', decode_predictions(p, top=3)[0])"
   ]
  },
  {
   "cell_type": "code",
   "execution_count": 38,
   "metadata": {},
   "outputs": [],
   "source": [
    "#image 4\n",
    "img_path = (\"/home/jovyan/dsc650/dsc650/assignments/assignment06/images/cup.jfif\")\n",
    "img = image.load_img(img_path, target_size=(224, 224))\n",
    "x = image.img_to_array(img)\n",
    "x = np.expand_dims(x, axis=0)\n",
    "x = preprocess_input(x)"
   ]
  },
  {
   "cell_type": "code",
   "execution_count": 39,
   "metadata": {},
   "outputs": [],
   "source": [
    "#Model Prediction\n",
    "p = mod.predict(x)"
   ]
  },
  {
   "cell_type": "code",
   "execution_count": 40,
   "metadata": {},
   "outputs": [
    {
     "name": "stdout",
     "output_type": "stream",
     "text": [
      "Predicted: [('n07930864', 'cup', 0.9110887), ('n03063599', 'coffee_mug', 0.06486178), ('n03733805', 'measuring_cup', 0.0049613607)]\n"
     ]
    }
   ],
   "source": [
    "#Printing out the top 3 results\n",
    "print('Predicted:', decode_predictions(p, top=3)[0])"
   ]
  },
  {
   "cell_type": "code",
   "execution_count": 41,
   "metadata": {},
   "outputs": [],
   "source": [
    "#image 5\n",
    "img_path = (\"/home/jovyan/dsc650/dsc650/assignments/assignment06/images/boat.png\")\n",
    "img = image.load_img(img_path, target_size=(224, 224))\n",
    "x = image.img_to_array(img)\n",
    "x = np.expand_dims(x, axis=0)\n",
    "x = preprocess_input(x)"
   ]
  },
  {
   "cell_type": "code",
   "execution_count": 42,
   "metadata": {},
   "outputs": [],
   "source": [
    "#Model Prediction\n",
    "p = mod.predict(x)"
   ]
  },
  {
   "cell_type": "code",
   "execution_count": 43,
   "metadata": {},
   "outputs": [
    {
     "name": "stdout",
     "output_type": "stream",
     "text": [
      "Predicted: [('n03291819', 'envelope', 0.26558635), ('n03467068', 'guillotine', 0.13250367), ('n06359193', 'web_site', 0.11496013)]\n"
     ]
    }
   ],
   "source": [
    "#Printing out the top 3 results\n",
    "print('Predicted:', decode_predictions(p, top=3)[0])"
   ]
  }
 ],
 "metadata": {
  "kernelspec": {
   "display_name": "Python 3",
   "language": "python",
   "name": "python3"
  },
  "language_info": {
   "codemirror_mode": {
    "name": "ipython",
    "version": 3
   },
   "file_extension": ".py",
   "mimetype": "text/x-python",
   "name": "python",
   "nbconvert_exporter": "python",
   "pygments_lexer": "ipython3",
   "version": "3.8.3"
  }
 },
 "nbformat": 4,
 "nbformat_minor": 4
}
